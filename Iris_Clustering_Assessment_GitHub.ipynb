{
 "cells": [
  {
   "cell_type": "code",
   "execution_count": null,
   "id": "691a1a78",
   "metadata": {},
   "outputs": [],
   "source": [
    "from sklearn.datasets import load_iris\n",
    "import pandas as pd\n",
    "\n",
    "# Load dataset\n",
    "iris = load_iris()\n",
    "df = pd.DataFrame(iris.data, columns=iris.feature_names)\n",
    "\n",
    "# Drop species (target) column\n",
    "df.head()"
   ]
  },
  {
   "cell_type": "code",
   "execution_count": null,
   "id": "42ecc869",
   "metadata": {},
   "outputs": [],
   "source": [
    "from sklearn.cluster import KMeans\n",
    "import matplotlib.pyplot as plt\n",
    "from sklearn.decomposition import PCA\n",
    "\n",
    "# Apply KMeans\n",
    "kmeans = KMeans(n_clusters=3, random_state=42)\n",
    "df['KMeans_Cluster'] = kmeans.fit_predict(df)\n",
    "\n",
    "# Reduce dimensions for visualization\n",
    "pca = PCA(n_components=2)\n",
    "components = pca.fit_transform(df.drop('KMeans_Cluster', axis=1))\n",
    "\n",
    "# Plot\n",
    "plt.figure(figsize=(8, 5))\n",
    "plt.scatter(components[:, 0], components[:, 1], c=df['KMeans_Cluster'], cmap='viridis')\n",
    "plt.title('KMeans Clustering (PCA-reduced)')\n",
    "plt.xlabel('PC1')\n",
    "plt.ylabel('PC2')\n",
    "plt.grid(True)\n",
    "plt.show()"
   ]
  },
  {
   "cell_type": "code",
   "execution_count": null,
   "id": "be866c48",
   "metadata": {},
   "outputs": [],
   "source": [
    "from scipy.cluster.hierarchy import linkage, dendrogram, fcluster\n",
    "\n",
    "# Compute linkage matrix\n",
    "linkage_matrix = linkage(df.drop('KMeans_Cluster', axis=1), method='ward')\n",
    "\n",
    "# Dendrogram\n",
    "plt.figure(figsize=(10, 6))\n",
    "dendrogram(linkage_matrix, truncate_mode='lastp', p=30)\n",
    "plt.title('Hierarchical Clustering Dendrogram')\n",
    "plt.xlabel('Sample index')\n",
    "plt.ylabel('Distance')\n",
    "plt.show()\n",
    "\n",
    "# Assign clusters\n",
    "df['Hierarchical_Cluster'] = fcluster(linkage_matrix, 3, criterion='maxclust')\n",
    "\n",
    "# Plot clusters using PCA\n",
    "components = pca.fit_transform(df.drop(['KMeans_Cluster', 'Hierarchical_Cluster'], axis=1))\n",
    "\n",
    "plt.figure(figsize=(8, 5))\n",
    "plt.scatter(components[:, 0], components[:, 1], c=df['Hierarchical_Cluster'], cmap='rainbow')\n",
    "plt.title('Hierarchical Clustering (PCA-reduced)')\n",
    "plt.xlabel('PC1')\n",
    "plt.ylabel('PC2')\n",
    "plt.grid(True)\n",
    "plt.show()"
   ]
  }
 ],
 "metadata": {},
 "nbformat": 4,
 "nbformat_minor": 5
}